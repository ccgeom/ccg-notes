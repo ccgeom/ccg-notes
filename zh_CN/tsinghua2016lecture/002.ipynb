{
 "cells": [
  {
   "cell_type": "markdown",
   "metadata": {},
   "source": [
    "# 7月5日课程"
   ]
  },
  {
   "cell_type": "markdown",
   "metadata": {
    "collapsed": true
   },
   "source": [
    "此次课程围绕流形的各种基本概念展开。课程的高潮，出现在证明“球面向量场必有零点”这一定理；也有一段轶事，介绍当年陈省身给求学期间的杨振宁出了一道题。此次课程笔记的整理和记录由 Mountain 提供。"
   ]
  }
 ],
 "metadata": {
  "kernelspec": {
   "display_name": "Python 2",
   "language": "python",
   "name": "python2"
  },
  "language_info": {
   "codemirror_mode": {
    "name": "ipython",
    "version": 2
   },
   "file_extension": ".py",
   "mimetype": "text/x-python",
   "name": "python",
   "nbconvert_exporter": "python",
   "pygments_lexer": "ipython2",
   "version": "2.7.11"
  }
 },
 "nbformat": 4,
 "nbformat_minor": 0
}
