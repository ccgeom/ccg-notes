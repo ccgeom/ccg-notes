{
 "cells": [
  {
   "cell_type": "markdown",
   "metadata": {
    "pycharm": {
     "name": "#%% md\n"
    }
   },
   "source": [
    "# 7月5日课程作业"
   ]
  },
  {
   "cell_type": "code",
   "execution_count": 1,
   "metadata": {
    "pycharm": {
     "name": "#%%\n"
    }
   },
   "outputs": [],
   "source": [
    "import numpy as np\n",
    "import pyvista as pv"
   ]
  },
  {
   "cell_type": "markdown",
   "metadata": {
    "pycharm": {
     "name": "#%% md\n"
    }
   },
   "source": [
    "首先加载并可视化一个双环面，如下所示："
   ]
  },
  {
   "cell_type": "code",
   "execution_count": 2,
   "metadata": {
    "pycharm": {
     "name": "#%%\n"
    }
   },
   "outputs": [
    {
     "data": {
      "application/vnd.jupyter.widget-view+json": {
       "model_id": "814ac2edc79345aba45d0e01d87023d9",
       "version_major": 2,
       "version_minor": 0
      },
      "text/plain": [
       "ViewInteractiveWidget(height=768, layout=Layout(height='auto', width='100%'), width=1024)"
      ]
     },
     "metadata": {},
     "output_type": "display_data"
    }
   ],
   "source": [
    "mesh = pv.read('../../data/eight.vtk')\n",
    "mesh.plot(screenshot='../../data/eight.png')"
   ]
  },
  {
   "cell_type": "markdown",
   "metadata": {
    "pycharm": {
     "name": "#%% md\n"
    }
   },
   "source": [
    "mesh 有一定的结构，我们可以看到其中的所有顶点，如下："
   ]
  },
  {
   "cell_type": "code",
   "execution_count": 3,
   "metadata": {
    "pycharm": {
     "name": "#%%\n"
    }
   },
   "outputs": [
    {
     "data": {
      "text/plain": [
       "pyvista_ndarray([[ 0.455366  ,  0.0513531 , -1.06708   ],\n",
       "                 [-0.518601  ,  0.0590061 , -0.972111  ],\n",
       "                 [ 0.274258  ,  0.13664   ,  0.446718  ],\n",
       "                 ...,\n",
       "                 [ 0.160425  ,  0.177281  ,  1.00846   ],\n",
       "                 [ 0.311929  , -0.19437   ,  0.106358  ],\n",
       "                 [ 0.325351  , -0.178119  ,  0.00863976]])"
      ]
     },
     "execution_count": 3,
     "metadata": {},
     "output_type": "execute_result"
    }
   ],
   "source": [
    "mesh.points"
   ]
  },
  {
   "cell_type": "code",
   "execution_count": 4,
   "metadata": {
    "pycharm": {
     "name": "#%%\n"
    }
   },
   "outputs": [
    {
     "data": {
      "text/plain": [
       "(pyvista_ndarray(-0.262132), pyvista_ndarray(0.260431))"
      ]
     },
     "execution_count": 4,
     "metadata": {},
     "output_type": "execute_result"
    }
   ],
   "source": [
    "mesh.points[:, 1].min(), mesh.points[:, 1].max()"
   ]
  },
  {
   "cell_type": "code",
   "execution_count": 5,
   "metadata": {
    "pycharm": {
     "name": "#%%\n"
    }
   },
   "outputs": [
    {
     "data": {
      "text/plain": [
       "(pyvista_ndarray(-1.26972), pyvista_ndarray(1.27079))"
      ]
     },
     "execution_count": 5,
     "metadata": {},
     "output_type": "execute_result"
    }
   ],
   "source": [
    "mesh.points[:, 2].min(), mesh.points[:, 2].max()"
   ]
  },
  {
   "cell_type": "code",
   "execution_count": null,
   "metadata": {
    "pycharm": {
     "name": "#%%\n"
    }
   },
   "outputs": [],
   "source": [
    "我们可以试试染色，效果如下"
   ]
  },
  {
   "cell_type": "code",
   "execution_count": 14,
   "metadata": {
    "pycharm": {
     "name": "#%%\n"
    }
   },
   "outputs": [
    {
     "data": {
      "application/vnd.jupyter.widget-view+json": {
       "model_id": "02ae1ac8c36240ae9a5cab6deae0a7ff",
       "version_major": 2,
       "version_minor": 0
      },
      "text/plain": [
       "ViewInteractiveWidget(height=768, layout=Layout(height='auto', width='100%'), width=1024)"
      ]
     },
     "metadata": {},
     "output_type": "display_data"
    }
   ],
   "source": [
    "mesh.point_data['pvalues'] = np.linspace(0.0, 1.0, mesh.n_points)\n",
    "mesh.plot(scalars='pvalues', show_edges=True, screenshot='points_coloring.png')"
   ]
  },
  {
   "cell_type": "markdown",
   "metadata": {
    "pycharm": {
     "name": "#%% md\n"
    }
   },
   "source": [
    "基于上面的 API，让我们试验一下一个双环面上一个燃烧的过程，火从一点开始向外蔓延，遇到已经燃烧过的就停下蔓延，我们把停止蔓延处的点都记录下来。"
   ]
  },
  {
   "cell_type": "markdown",
   "metadata": {
    "pycharm": {
     "name": "#%% md\n"
    }
   },
   "source": [
    "初始时刻，只有第 0 点处在着火，其他点全部是未着火的状态。"
   ]
  },
  {
   "cell_type": "code",
   "execution_count": 17,
   "metadata": {
    "pycharm": {
     "name": "#%%\n"
    }
   },
   "outputs": [
    {
     "data": {
      "application/vnd.jupyter.widget-view+json": {
       "model_id": "68000de439a2483eaca55ef3e926e682",
       "version_major": 2,
       "version_minor": 0
      },
      "text/plain": [
       "ViewInteractiveWidget(height=768, layout=Layout(height='auto', width='100%'), width=1024)"
      ]
     },
     "metadata": {},
     "output_type": "display_data"
    }
   ],
   "source": [
    "mesh.point_data['pvalues'] = np.ones([mesh.n_points]) * 0.7 # 绿色的森林\n",
    "mesh.point_data['pvalues'][0] = 0.0                         # 强制把色阶拉回去的 workaround\n",
    "mesh.point_data['pvalues'][3497] = 1.0                      # 着火处\n",
    "mesh.plot(scalars='pvalues', show_edges=True, screenshot='points_coloring.png')"
   ]
  },
  {
   "cell_type": "code",
   "execution_count": 18,
   "metadata": {
    "pycharm": {
     "name": "#%%\n"
    }
   },
   "outputs": [],
   "source": [
    "def step():\n",
    "    for i in range(mesh.n_points):\n",
    "        p = mesh.points[i]\n",
    "        pval = mesh.point_arrays['pvalues'][i]\n",
    "        if pval > 0.75:                              # 如果 p 点正在燃烧\n",
    "            for j in range(mesh.n_points):\n",
    "                q = mesh.points[j]\n",
    "                qval = mesh.point_arrays['pvalues'][j]\n",
    "                d = np.sqrt(np.sum((p - q) * (p - q)))\n",
    "                meet_cond = False\n",
    "                if d < 0.05:\n",
    "                    if qval == 0.7:                  # 如果 q 点尚未燃烧过\n",
    "                        mesh.point_arrays['pvalues'][j] = 1.0\n",
    "                        meet_cond = False\n",
    "                    elif qval > 0.75 or qval == 0.0: # 如果 q 点也在燃烧\n",
    "                        meet_cond = meet_cond and (pval > qval)\n",
    "\n",
    "            mesh.point_arrays['pvalues'][i] = mesh.point_arrays['pvalues'][i] * 0.9\n",
    "            if 0.7 < mesh.point_arrays['pvalues'][i] < 0.75:\n",
    "                mesh.point_arrays['pvalues'][i] = 0.5\n",
    "\n",
    "            if meet_cond:\n",
    "                mesh.point_arrays['pvalues'][i] = 0.0\n",
    "\n",
    "    mesh.point_arrays['pvalues'][0] = 0.0"
   ]
  },
  {
   "cell_type": "code",
   "execution_count": null,
   "metadata": {
    "pycharm": {
     "name": "#%%\n"
    }
   },
   "outputs": [],
   "source": [
    "step()"
   ]
  }
 ],
 "metadata": {
  "kernelspec": {
   "display_name": "Python 3 (ipykernel)",
   "language": "python",
   "name": "python3"
  },
  "language_info": {
   "codemirror_mode": {
    "name": "ipython",
    "version": 3
   },
   "file_extension": ".py",
   "mimetype": "text/x-python",
   "name": "python",
   "nbconvert_exporter": "python",
   "pygments_lexer": "ipython3",
   "version": "3.10.2"
  }
 },
 "nbformat": 4,
 "nbformat_minor": 1
}